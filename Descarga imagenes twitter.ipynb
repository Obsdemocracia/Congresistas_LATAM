{
 "cells": [
  {
   "cell_type": "code",
   "execution_count": null,
   "id": "reduced-virtue",
   "metadata": {},
   "outputs": [],
   "source": [
    "import pandas as pd\n",
    "import os\n",
    "import datetime\n",
    "import tweepy"
   ]
  },
  {
   "cell_type": "code",
   "execution_count": null,
   "id": "better-hurricane",
   "metadata": {},
   "outputs": [],
   "source": [
    "####input your credentials here\n",
    "APP_KEY3 = ''\n",
    "APP_SECRET3 = ''\n",
    "OAUTH_TOKEN3 = ''\n",
    "OAUTH_TOKEN_SECRET3 =''"
   ]
  },
  {
   "cell_type": "code",
   "execution_count": null,
   "id": "hindu-inquiry",
   "metadata": {},
   "outputs": [],
   "source": [
    "auth = tweepy.OAuthHandler(APP_KEY3, APP_SECRET3)\n",
    "auth.set_access_token(OAUTH_TOKEN3, OAUTH_TOKEN_SECRET3)\n",
    "\n",
    "api3 = tweepy.API(auth,wait_on_rate_limit=True,wait_on_rate_limit_notify=True)"
   ]
  },
  {
   "cell_type": "code",
   "execution_count": null,
   "id": "single-responsibility",
   "metadata": {},
   "outputs": [],
   "source": [
    "camara=pd.read_excel(\"/Users/wilsonforero/Downloads/Congresistas_actualizada_28-10-2.xlsx\")"
   ]
  },
  {
   "cell_type": "code",
   "execution_count": null,
   "id": "published-differential",
   "metadata": {},
   "outputs": [],
   "source": [
    "camara=camara[camara[\"ISO3 (País)\"]==\"COL\"]\n",
    "camara=camara[camara[\"Gobierno_Oposicion\"]==1]"
   ]
  },
  {
   "cell_type": "code",
   "execution_count": null,
   "id": "linear-fortune",
   "metadata": {},
   "outputs": [],
   "source": [
    "usuarios=camara.Twitter.to_list()\n",
    "cleanedList = [x for x in usuarios if str(x) != 'nan']\n",
    "\n",
    "cleanedList"
   ]
  },
  {
   "cell_type": "code",
   "execution_count": null,
   "id": "unsigned-chaos",
   "metadata": {},
   "outputs": [],
   "source": [
    "os.chdir(\"/Users/wilsonforero/Desktop/carpeta sin título 2/Gobierno/\")"
   ]
  },
  {
   "cell_type": "code",
   "execution_count": null,
   "id": "metropolitan-yemen",
   "metadata": {},
   "outputs": [],
   "source": [
    "tweets = []\n",
    "imagenes=[]\n",
    "favorites=[]\n",
    "retweets=[]\n",
    "date=[]\n",
    "imagen=[]\n",
    "screen_name=[]"
   ]
  },
  {
   "cell_type": "code",
   "execution_count": null,
   "id": "vulnerable-disclosure",
   "metadata": {},
   "outputs": [],
   "source": [
    "for j in cleanedList:\n",
    "    try: \n",
    "        tmpTweets = api3.user_timeline(j)\n",
    "        for tweet in tmpTweets:\n",
    "            if tweet.created_at < endDate and tweet.created_at > startDate:\n",
    "                tweets.append(tweet)\n",
    "\n",
    "        while (tmpTweets[-1].created_at > startDate):\n",
    "            tmpTweets = api3.user_timeline(j, max_id = tmpTweets[-1].id)\n",
    "            for tweet in tmpTweets:\n",
    "                if tweet.created_at < endDate and tweet.created_at > startDate:\n",
    "                    tweets.append(tweet)\n",
    "                if 'media' in tweet.entities:\n",
    "                    for image in tweet.entities['media']:\n",
    "                        screen_name.append(j)\n",
    "                        date.append(tweet.created_at)\n",
    "                        imagen.append(image['media_url'])\n",
    "                        favorites.append(tweet.favorite_count)\n",
    "                        retweets.append(tweet.retweet_count)\n",
    "                        filename =j+\"_\"+str(tweet.created_at.date())+\"_\"+image['media_url'].split(\"/\")[-1]\n",
    "                        r = requests.get(image['media_url'], stream = True)\n",
    "                        if r.status_code == 200:\n",
    "                            r.raw.decode_content = True\n",
    "                            with open(filename,'wb') as f:\n",
    "                                shutil.copyfileobj(r.raw, f)\n",
    "                            print('Image sucessfully Downloaded: ',filename, print)\n",
    "                        else:\n",
    "                            print('Image Couldn\\'t be retreived')\n",
    "                    for media in tweet.extended_entities['media']:\n",
    "                        screen_name.append(j)\n",
    "                        date.append(tweet.created_at)\n",
    "                        imagen.append(media['media_url'])\n",
    "                        favorites.append(tweet.favorite_count)\n",
    "                        retweets.append(tweet.retweet_count)\n",
    "                        filename =j+\"_\"+str(tweet.created_at.date())+\"_\"+media['media_url'].split(\"/\")[-1]\n",
    "                        r = requests.get(media['media_url'], stream = True)\n",
    "                        if r.status_code == 200:\n",
    "                            r.raw.decode_content = True\n",
    "                            with open(filename,'wb') as f:\n",
    "                                shutil.copyfileobj(r.raw, f)\n",
    "                            print('Image sucessfully Downloaded: ',filename, print)\n",
    "                        else:\n",
    "                            print('Image Couldn\\'t be retreived')\n",
    "                            \n",
    "    except:\n",
    "        pass"
   ]
  }
 ],
 "metadata": {
  "kernelspec": {
   "display_name": "Python 3",
   "language": "python",
   "name": "python3"
  },
  "language_info": {
   "codemirror_mode": {
    "name": "ipython",
    "version": 3
   },
   "file_extension": ".py",
   "mimetype": "text/x-python",
   "name": "python",
   "nbconvert_exporter": "python",
   "pygments_lexer": "ipython3",
   "version": "3.7.6"
  }
 },
 "nbformat": 4,
 "nbformat_minor": 5
}
